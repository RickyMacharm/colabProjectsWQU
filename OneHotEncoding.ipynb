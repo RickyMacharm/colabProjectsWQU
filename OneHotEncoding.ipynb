{
  "nbformat": 4,
  "nbformat_minor": 0,
  "metadata": {
    "colab": {
      "name": "OneHotEncoding.ipynb",
      "provenance": [],
      "collapsed_sections": [],
      "include_colab_link": true
    },
    "kernelspec": {
      "name": "python3",
      "display_name": "Python 3"
    }
  },
  "cells": [
    {
      "cell_type": "markdown",
      "metadata": {
        "id": "view-in-github",
        "colab_type": "text"
      },
      "source": [
        "<a href=\"https://colab.research.google.com/github/achuga200/colabProjectsWQU/blob/master/OneHotEncoding.ipynb\" target=\"_parent\"><img src=\"https://colab.research.google.com/assets/colab-badge.svg\" alt=\"Open In Colab\"/></a>"
      ]
    },
    {
      "cell_type": "code",
      "metadata": {
        "id": "sntF3W2Q0LYy",
        "colab_type": "code",
        "colab": {
          "base_uri": "https://localhost:8080/",
          "height": 119
        },
        "outputId": "87307a10-1d29-4ada-cb2c-7f4e3394aa47"
      },
      "source": [
        "#Convert to one hot encoding Using TensorFlow\n",
        "\n",
        "import tensorflow as tf\n",
        "import pandas as pd\n",
        "\n",
        "text = 'My cat is a great cat'\n",
        "tokens = text.lower().split()\n",
        "\n",
        "vocab = set(tokens)\n",
        "vocab = pd.Series(range(len(vocab)), index=vocab)\n",
        "\n",
        "word_ids = vocab.loc[tokens].values\n",
        "\n",
        "inputs = tf.placeholder(tf.int32, [None])\n",
        "# TensorFlow has an operation for one-hot encoding\n",
        "one_hot_inputs = tf.one_hot(inputs, len(vocab))\n",
        "transformed = tf.Session().run(one_hot_inputs, {inputs: word_ids})\n",
        "\n",
        "\n",
        "print (transformed)"
      ],
      "execution_count": 1,
      "outputs": [
        {
          "output_type": "stream",
          "text": [
            "[[1. 0. 0. 0. 0.]\n",
            " [0. 0. 0. 1. 0.]\n",
            " [0. 0. 1. 0. 0.]\n",
            " [0. 0. 0. 0. 1.]\n",
            " [0. 1. 0. 0. 0.]\n",
            " [0. 0. 0. 1. 0.]]\n"
          ],
          "name": "stdout"
        }
      ]
    },
    {
      "cell_type": "markdown",
      "metadata": {
        "id": "kP2x_s940tj5",
        "colab_type": "text"
      },
      "source": [
        "Steps to follow:\n",
        "\n",
        "Convert the text to Lower Case\n",
        "\n",
        "Word Tokenize\n",
        "\n",
        "Get its integer value i.e the position by using LabelEncoder()\n",
        "\n",
        "Get one hot encoding of the word by referring to the label encoded values by \n",
        "\n",
        "using to_categorical()"
      ]
    }
  ]
}